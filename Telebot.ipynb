{
 "cells": [
  {
   "cell_type": "code",
   "execution_count": 1,
   "metadata": {},
   "outputs": [],
   "source": [
    "import telebot\n",
    "from telebot import *\n",
    "from telebot.types import InputMediaPhoto\n",
    "bot = telebot.TeleBot('1216215465:AAFciPgQ-NSXY5e3N32PErhTeuDui91o1C0');"
   ]
  },
  {
   "cell_type": "code",
   "execution_count": 2,
   "metadata": {},
   "outputs": [],
   "source": [
    "@bot.message_handler(commands=['start'])\n",
    "def start_message(message):\n",
    "    markup = types.ReplyKeyboardMarkup(resize_keyboard = True)\n",
    "    but1 = types.KeyboardButton('Recognize🔎')\n",
    "    but2 = types.KeyboardButton('Statistics📊')\n",
    "    but3 = types.KeyboardButton('Selection🖼')\n",
    "    markup.add(but1, but2, but3)\n",
    "    bot.send_message(message.chat.id, 'Hello, select the option you need :)', reply_markup = markup)\n",
    "    "
   ]
  },
  {
   "cell_type": "code",
   "execution_count": 3,
   "metadata": {},
   "outputs": [],
   "source": [
    "@bot.message_handler(commands=['help'])\n",
    "def help_message(message):\n",
    "    bot.send_message(message.chat.id, 'To start recognition, enter the /start command.')"
   ]
  },
  {
   "cell_type": "code",
   "execution_count": 4,
   "metadata": {},
   "outputs": [],
   "source": [
    "@bot.message_handler(content_types=['text'])\n",
    "def text_message(message):\n",
    "    text1 = 'Siberian Cat' \n",
    "    img1 = 'https://imbt.ga/kZ3M2pN28o'\n",
    "    pic1 = 'https://imbt.ga/kZ3M2pN28o';\n",
    "    pic2 = 'https://imbt.ga/CVj4MLZHgD';\n",
    "    pic3 = 'https://imbt.ga/RRuyJ1IBXp';\n",
    "    pic4 = 'https://imbt.ga/4McNflhMer';\n",
    "    pic5 = 'https://imbt.ga/mzqNOKJEbD';\n",
    "    pic6 = 'https://imbt.ga/FHjDC7mNcv';\n",
    "    pic7 = 'https://imbt.ga/qBNt0X3rLe';\n",
    "    pic8 = 'https://imbt.ga/9ytmi8TXHr';\n",
    "    pic9 = 'https://imbt.ga/nZ9WA1P0mU';\n",
    "    pic10 = 'https://imbt.ga/f4YRgi68xV';\n",
    "    if message.text == \"/help\":\n",
    "        bot.send_message(message.from_user.id, 'To start recognition, enter the /start command.')\n",
    "    elif message.text == \"Recognize🔎\":\n",
    "         bot.send_message(message.from_user.id, 'Send me a picture of a cat/dog that you want to recognize :)')\n",
    "    elif message.text == \"Statistics📊\":\n",
    "         bot.send_message(message.from_user.id, 'tyt bydet statistika hehe')\n",
    "    elif message.text == \"Selection🖼\":\n",
    "        media = [InputMediaPhoto(pic1, caption=\"Siberian Cat\"), \n",
    "                 InputMediaPhoto(pic2, caption=\"British Shorthair Cat\")]\n",
    "        bot.send_media_group(message.chat.id, media);\n",
    "    else:\n",
    "        bot.send_message(message.from_user.id, 'Sorry, baby... I dont understand you. Enter the /help command, please')\n"
   ]
  },
  {
   "cell_type": "code",
   "execution_count": 5,
   "metadata": {
    "scrolled": false
   },
   "outputs": [],
   "source": [
    "@bot.message_handler(content_types=['photo'])\n",
    "def photo_message(message):\n",
    "    bot.send_message(message.chat.id, 'Wow, nice photo!')\n"
   ]
  },
  {
   "cell_type": "code",
   "execution_count": null,
   "metadata": {},
   "outputs": [],
   "source": [
    "bot.polling(none_stop=True)"
   ]
  },
  {
   "cell_type": "code",
   "execution_count": null,
   "metadata": {},
   "outputs": [],
   "source": []
  }
 ],
 "metadata": {
  "kernelspec": {
   "display_name": "Python 3",
   "language": "python",
   "name": "python3"
  },
  "language_info": {
   "codemirror_mode": {
    "name": "ipython",
    "version": 3
   },
   "file_extension": ".py",
   "mimetype": "text/x-python",
   "name": "python",
   "nbconvert_exporter": "python",
   "pygments_lexer": "ipython3",
   "version": "3.8.2"
  }
 },
 "nbformat": 4,
 "nbformat_minor": 4
}
